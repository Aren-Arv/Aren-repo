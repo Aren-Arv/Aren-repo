{
  "nbformat": 4,
  "nbformat_minor": 0,
  "metadata": {
    "colab": {
      "name": "TEProj.ipynb",
      "provenance": [],
      "collapsed_sections": [],
      "authorship_tag": "ABX9TyOyJqEsSpqeL1V1d8C4d4d8",
      "include_colab_link": true
    },
    "kernelspec": {
      "name": "python3",
      "display_name": "Python 3"
    },
    "accelerator": "GPU"
  },
  "cells": [
    {
      "cell_type": "markdown",
      "metadata": {
        "id": "view-in-github",
        "colab_type": "text"
      },
      "source": [
        "<a href=\"https://colab.research.google.com/github/Aren-Arv/Aren-repo/blob/TE/TEProj.ipynb\" target=\"_parent\"><img src=\"https://colab.research.google.com/assets/colab-badge.svg\" alt=\"Open In Colab\"/></a>"
      ]
    },
    {
      "cell_type": "markdown",
      "metadata": {
        "id": "IPcbiaMadAnN",
        "colab_type": "text"
      },
      "source": [
        "**Fake News Detection TE B 21,25,26**"
      ]
    },
    {
      "cell_type": "markdown",
      "metadata": {
        "id": "cFNIESbDSeJ1",
        "colab_type": "text"
      },
      "source": [
        "**Importing all modules...**"
      ]
    },
    {
      "cell_type": "code",
      "metadata": {
        "id": "KG6pfS2_P7hO",
        "colab_type": "code",
        "colab": {}
      },
      "source": [
        "import pandas as pd\n",
        "import numpy as np\n",
        "import itertools\n",
        "from sklearn.feature_extraction.text import CountVectorizer, TfidfVectorizer\n",
        "from sklearn.model_selection import train_test_split\n",
        "from sklearn.linear_model import PassiveAggressiveClassifier, SGDClassifier\n",
        "from sklearn.svm import LinearSVC\n",
        "from sklearn.naive_bayes import MultinomialNB\n",
        "from sklearn import metrics\n",
        "import matplotlib.pyplot as plt"
      ],
      "execution_count": 0,
      "outputs": []
    },
    {
      "cell_type": "code",
      "metadata": {
        "id": "tv1h1t4dQQSM",
        "colab_type": "code",
        "outputId": "6e68ce64-2bfb-4439-c975-a52a28a6db58",
        "colab": {
          "base_uri": "https://localhost:8080/",
          "height": 105
        }
      },
      "source": [
        "%pylab inline"
      ],
      "execution_count": 0,
      "outputs": [
        {
          "output_type": "stream",
          "text": [
            "Populating the interactive namespace from numpy and matplotlib\n"
          ],
          "name": "stdout"
        },
        {
          "output_type": "stream",
          "text": [
            "/usr/local/lib/python3.6/dist-packages/IPython/core/magics/pylab.py:161: UserWarning: pylab import has clobbered these variables: ['cm', 'clf']\n",
            "`%matplotlib` prevents importing * from pylab and numpy\n",
            "  \"\\n`%matplotlib` prevents importing * from pylab and numpy\"\n"
          ],
          "name": "stderr"
        }
      ]
    },
    {
      "cell_type": "markdown",
      "metadata": {
        "id": "CWdjVFtPTo4h",
        "colab_type": "text"
      },
      "source": [
        "**Extracting Dataset...**"
      ]
    },
    {
      "cell_type": "code",
      "metadata": {
        "id": "PRApxBNDQW5m",
        "colab_type": "code",
        "outputId": "2b5da19c-ebb2-45cc-f137-53b8bf652fe1",
        "colab": {
          "base_uri": "https://localhost:8080/",
          "height": 54
        }
      },
      "source": [
        "from google.colab import drive\n",
        "drive.mount('/content/drive')"
      ],
      "execution_count": 0,
      "outputs": [
        {
          "output_type": "stream",
          "text": [
            "Drive already mounted at /content/drive; to attempt to forcibly remount, call drive.mount(\"/content/drive\", force_remount=True).\n"
          ],
          "name": "stdout"
        }
      ]
    },
    {
      "cell_type": "code",
      "metadata": {
        "id": "uwiQSbSwQair",
        "colab_type": "code",
        "colab": {}
      },
      "source": [
        "df = pd.read_csv('/content/drive/My Drive/proj/fake_or_real_news.csv')"
      ],
      "execution_count": 0,
      "outputs": []
    },
    {
      "cell_type": "code",
      "metadata": {
        "id": "rHyMs9_uQbyL",
        "colab_type": "code",
        "outputId": "fa78908d-010f-470d-a403-93b06c6748ec",
        "colab": {
          "base_uri": "https://localhost:8080/",
          "height": 34
        }
      },
      "source": [
        "df.shape"
      ],
      "execution_count": 0,
      "outputs": [
        {
          "output_type": "execute_result",
          "data": {
            "text/plain": [
              "(6335, 4)"
            ]
          },
          "metadata": {
            "tags": []
          },
          "execution_count": 120
        }
      ]
    },
    {
      "cell_type": "code",
      "metadata": {
        "id": "LFCJFqWiQfpy",
        "colab_type": "code",
        "outputId": "a1de2293-aeea-44e4-f38c-7f36be552e31",
        "colab": {
          "base_uri": "https://localhost:8080/",
          "height": 204
        }
      },
      "source": [
        "df.head()"
      ],
      "execution_count": 0,
      "outputs": [
        {
          "output_type": "execute_result",
          "data": {
            "text/html": [
              "<div>\n",
              "<style scoped>\n",
              "    .dataframe tbody tr th:only-of-type {\n",
              "        vertical-align: middle;\n",
              "    }\n",
              "\n",
              "    .dataframe tbody tr th {\n",
              "        vertical-align: top;\n",
              "    }\n",
              "\n",
              "    .dataframe thead th {\n",
              "        text-align: right;\n",
              "    }\n",
              "</style>\n",
              "<table border=\"1\" class=\"dataframe\">\n",
              "  <thead>\n",
              "    <tr style=\"text-align: right;\">\n",
              "      <th></th>\n",
              "      <th>Unnamed: 0</th>\n",
              "      <th>title</th>\n",
              "      <th>text</th>\n",
              "      <th>label</th>\n",
              "    </tr>\n",
              "  </thead>\n",
              "  <tbody>\n",
              "    <tr>\n",
              "      <th>0</th>\n",
              "      <td>8476</td>\n",
              "      <td>You Can Smell Hillary’s Fear</td>\n",
              "      <td>Daniel Greenfield, a Shillman Journalism Fello...</td>\n",
              "      <td>FAKE</td>\n",
              "    </tr>\n",
              "    <tr>\n",
              "      <th>1</th>\n",
              "      <td>10294</td>\n",
              "      <td>Watch The Exact Moment Paul Ryan Committed Pol...</td>\n",
              "      <td>Google Pinterest Digg Linkedin Reddit Stumbleu...</td>\n",
              "      <td>FAKE</td>\n",
              "    </tr>\n",
              "    <tr>\n",
              "      <th>2</th>\n",
              "      <td>3608</td>\n",
              "      <td>Kerry to go to Paris in gesture of sympathy</td>\n",
              "      <td>U.S. Secretary of State John F. Kerry said Mon...</td>\n",
              "      <td>REAL</td>\n",
              "    </tr>\n",
              "    <tr>\n",
              "      <th>3</th>\n",
              "      <td>10142</td>\n",
              "      <td>Bernie supporters on Twitter erupt in anger ag...</td>\n",
              "      <td>— Kaydee King (@KaydeeKing) November 9, 2016 T...</td>\n",
              "      <td>FAKE</td>\n",
              "    </tr>\n",
              "    <tr>\n",
              "      <th>4</th>\n",
              "      <td>875</td>\n",
              "      <td>The Battle of New York: Why This Primary Matters</td>\n",
              "      <td>It's primary day in New York and front-runners...</td>\n",
              "      <td>REAL</td>\n",
              "    </tr>\n",
              "  </tbody>\n",
              "</table>\n",
              "</div>"
            ],
            "text/plain": [
              "   Unnamed: 0  ... label\n",
              "0        8476  ...  FAKE\n",
              "1       10294  ...  FAKE\n",
              "2        3608  ...  REAL\n",
              "3       10142  ...  FAKE\n",
              "4         875  ...  REAL\n",
              "\n",
              "[5 rows x 4 columns]"
            ]
          },
          "metadata": {
            "tags": []
          },
          "execution_count": 121
        }
      ]
    },
    {
      "cell_type": "code",
      "metadata": {
        "id": "qo-x3EjNQkOw",
        "colab_type": "code",
        "outputId": "d00b9fea-c6ca-43f9-8b7b-96d5ab5e9619",
        "colab": {
          "base_uri": "https://localhost:8080/",
          "height": 235
        }
      },
      "source": [
        "df = df.set_index('Unnamed: 0')\n",
        "df.head()"
      ],
      "execution_count": 0,
      "outputs": [
        {
          "output_type": "execute_result",
          "data": {
            "text/html": [
              "<div>\n",
              "<style scoped>\n",
              "    .dataframe tbody tr th:only-of-type {\n",
              "        vertical-align: middle;\n",
              "    }\n",
              "\n",
              "    .dataframe tbody tr th {\n",
              "        vertical-align: top;\n",
              "    }\n",
              "\n",
              "    .dataframe thead th {\n",
              "        text-align: right;\n",
              "    }\n",
              "</style>\n",
              "<table border=\"1\" class=\"dataframe\">\n",
              "  <thead>\n",
              "    <tr style=\"text-align: right;\">\n",
              "      <th></th>\n",
              "      <th>title</th>\n",
              "      <th>text</th>\n",
              "      <th>label</th>\n",
              "    </tr>\n",
              "    <tr>\n",
              "      <th>Unnamed: 0</th>\n",
              "      <th></th>\n",
              "      <th></th>\n",
              "      <th></th>\n",
              "    </tr>\n",
              "  </thead>\n",
              "  <tbody>\n",
              "    <tr>\n",
              "      <th>8476</th>\n",
              "      <td>You Can Smell Hillary’s Fear</td>\n",
              "      <td>Daniel Greenfield, a Shillman Journalism Fello...</td>\n",
              "      <td>FAKE</td>\n",
              "    </tr>\n",
              "    <tr>\n",
              "      <th>10294</th>\n",
              "      <td>Watch The Exact Moment Paul Ryan Committed Pol...</td>\n",
              "      <td>Google Pinterest Digg Linkedin Reddit Stumbleu...</td>\n",
              "      <td>FAKE</td>\n",
              "    </tr>\n",
              "    <tr>\n",
              "      <th>3608</th>\n",
              "      <td>Kerry to go to Paris in gesture of sympathy</td>\n",
              "      <td>U.S. Secretary of State John F. Kerry said Mon...</td>\n",
              "      <td>REAL</td>\n",
              "    </tr>\n",
              "    <tr>\n",
              "      <th>10142</th>\n",
              "      <td>Bernie supporters on Twitter erupt in anger ag...</td>\n",
              "      <td>— Kaydee King (@KaydeeKing) November 9, 2016 T...</td>\n",
              "      <td>FAKE</td>\n",
              "    </tr>\n",
              "    <tr>\n",
              "      <th>875</th>\n",
              "      <td>The Battle of New York: Why This Primary Matters</td>\n",
              "      <td>It's primary day in New York and front-runners...</td>\n",
              "      <td>REAL</td>\n",
              "    </tr>\n",
              "  </tbody>\n",
              "</table>\n",
              "</div>"
            ],
            "text/plain": [
              "                                                        title  ... label\n",
              "Unnamed: 0                                                     ...      \n",
              "8476                             You Can Smell Hillary’s Fear  ...  FAKE\n",
              "10294       Watch The Exact Moment Paul Ryan Committed Pol...  ...  FAKE\n",
              "3608              Kerry to go to Paris in gesture of sympathy  ...  REAL\n",
              "10142       Bernie supporters on Twitter erupt in anger ag...  ...  FAKE\n",
              "875          The Battle of New York: Why This Primary Matters  ...  REAL\n",
              "\n",
              "[5 rows x 3 columns]"
            ]
          },
          "metadata": {
            "tags": []
          },
          "execution_count": 122
        }
      ]
    },
    {
      "cell_type": "markdown",
      "metadata": {
        "id": "zg6SZsDfTd91",
        "colab_type": "text"
      },
      "source": [
        "**Training and Testing on dataset...**"
      ]
    },
    {
      "cell_type": "code",
      "metadata": {
        "id": "BLu4ZEYKQrFV",
        "colab_type": "code",
        "colab": {}
      },
      "source": [
        "y = df.label\n",
        "df = df.drop('label', axis=1)\n",
        "X_train, X_test, y_train, y_test = train_test_split(df['text'], y, test_size=0.33, random_state=53)"
      ],
      "execution_count": 0,
      "outputs": []
    },
    {
      "cell_type": "code",
      "metadata": {
        "id": "kXLtSp2LQysm",
        "colab_type": "code",
        "colab": {}
      },
      "source": [
        "count_vectorizer = CountVectorizer(stop_words='english')\n",
        "count_train = count_vectorizer.fit_transform(X_train)\n",
        "count_test = count_vectorizer.transform(X_test)"
      ],
      "execution_count": 0,
      "outputs": []
    },
    {
      "cell_type": "code",
      "metadata": {
        "id": "XFl258NNQ1Qg",
        "colab_type": "code",
        "colab": {}
      },
      "source": [
        "tfidf_vectorizer = TfidfVectorizer(stop_words='english', max_df=0.7)\n",
        "tfidf_train = tfidf_vectorizer.fit_transform(X_train)\n",
        "tfidf_test = tfidf_vectorizer.transform(X_test)"
      ],
      "execution_count": 0,
      "outputs": []
    },
    {
      "cell_type": "code",
      "metadata": {
        "id": "CNAu8h5EQ5wF",
        "colab_type": "code",
        "outputId": "ddf1c15c-1a73-4f5e-c5c6-92164bfbed4c",
        "colab": {
          "base_uri": "https://localhost:8080/",
          "height": 34
        }
      },
      "source": [
        "tfidf_vectorizer.get_feature_names()[-10:]"
      ],
      "execution_count": 0,
      "outputs": [
        {
          "output_type": "execute_result",
          "data": {
            "text/plain": [
              "['حلب', 'عربي', 'عن', 'لم', 'ما', 'محاولات', 'من', 'هذا', 'والمرضى', 'ยงade']"
            ]
          },
          "metadata": {
            "tags": []
          },
          "execution_count": 126
        }
      ]
    },
    {
      "cell_type": "code",
      "metadata": {
        "id": "tJiPMpUNQ61d",
        "colab_type": "code",
        "outputId": "bca3fdd9-83c1-4e6d-9d57-d0bca2dd01bf",
        "colab": {
          "base_uri": "https://localhost:8080/",
          "height": 187
        }
      },
      "source": [
        "count_vectorizer.get_feature_names()[:10]"
      ],
      "execution_count": 0,
      "outputs": [
        {
          "output_type": "execute_result",
          "data": {
            "text/plain": [
              "['00',\n",
              " '000',\n",
              " '0000',\n",
              " '00000031',\n",
              " '000035',\n",
              " '00006',\n",
              " '0001',\n",
              " '0001pt',\n",
              " '000ft',\n",
              " '000km']"
            ]
          },
          "metadata": {
            "tags": []
          },
          "execution_count": 127
        }
      ]
    },
    {
      "cell_type": "code",
      "metadata": {
        "id": "tArDZtHiWnwK",
        "colab_type": "code",
        "colab": {}
      },
      "source": [
        "count_df = pd.DataFrame(count_train.A, columns=count_vectorizer.get_feature_names())"
      ],
      "execution_count": 0,
      "outputs": []
    },
    {
      "cell_type": "code",
      "metadata": {
        "id": "-4Az7wkCWoGK",
        "colab_type": "code",
        "colab": {}
      },
      "source": [
        "tfidf_df = pd.DataFrame(tfidf_train.A, columns=tfidf_vectorizer.get_feature_names())"
      ],
      "execution_count": 0,
      "outputs": []
    },
    {
      "cell_type": "code",
      "metadata": {
        "id": "b08m9P_PWoTI",
        "colab_type": "code",
        "outputId": "f1a2fdde-2712-46b2-db7a-1c4988e80e4f",
        "colab": {
          "base_uri": "https://localhost:8080/",
          "height": 34
        }
      },
      "source": [
        "difference = set(count_df.columns) - set(tfidf_df.columns)\n",
        "difference"
      ],
      "execution_count": 0,
      "outputs": [
        {
          "output_type": "execute_result",
          "data": {
            "text/plain": [
              "set()"
            ]
          },
          "metadata": {
            "tags": []
          },
          "execution_count": 130
        }
      ]
    },
    {
      "cell_type": "code",
      "metadata": {
        "id": "_8Fjwf4NWojO",
        "colab_type": "code",
        "outputId": "419fdd3c-b95f-4e1d-e924-3ea31ff2a795",
        "colab": {
          "base_uri": "https://localhost:8080/",
          "height": 270
        }
      },
      "source": [
        "print(count_df.equals(tfidf_df))\n",
        "count_df.head()\n",
        "tfidf_df.head()"
      ],
      "execution_count": 0,
      "outputs": [
        {
          "output_type": "stream",
          "text": [
            "False\n"
          ],
          "name": "stdout"
        },
        {
          "output_type": "execute_result",
          "data": {
            "text/html": [
              "<div>\n",
              "<style scoped>\n",
              "    .dataframe tbody tr th:only-of-type {\n",
              "        vertical-align: middle;\n",
              "    }\n",
              "\n",
              "    .dataframe tbody tr th {\n",
              "        vertical-align: top;\n",
              "    }\n",
              "\n",
              "    .dataframe thead th {\n",
              "        text-align: right;\n",
              "    }\n",
              "</style>\n",
              "<table border=\"1\" class=\"dataframe\">\n",
              "  <thead>\n",
              "    <tr style=\"text-align: right;\">\n",
              "      <th></th>\n",
              "      <th>00</th>\n",
              "      <th>000</th>\n",
              "      <th>0000</th>\n",
              "      <th>00000031</th>\n",
              "      <th>000035</th>\n",
              "      <th>00006</th>\n",
              "      <th>0001</th>\n",
              "      <th>0001pt</th>\n",
              "      <th>000ft</th>\n",
              "      <th>000km</th>\n",
              "      <th>001</th>\n",
              "      <th>0011</th>\n",
              "      <th>002</th>\n",
              "      <th>003</th>\n",
              "      <th>004</th>\n",
              "      <th>006</th>\n",
              "      <th>006s</th>\n",
              "      <th>007</th>\n",
              "      <th>007s</th>\n",
              "      <th>008</th>\n",
              "      <th>008s</th>\n",
              "      <th>009</th>\n",
              "      <th>0099</th>\n",
              "      <th>00am</th>\n",
              "      <th>00p</th>\n",
              "      <th>00pm</th>\n",
              "      <th>01</th>\n",
              "      <th>010</th>\n",
              "      <th>013</th>\n",
              "      <th>014</th>\n",
              "      <th>015</th>\n",
              "      <th>016</th>\n",
              "      <th>018</th>\n",
              "      <th>01am</th>\n",
              "      <th>02</th>\n",
              "      <th>020</th>\n",
              "      <th>022</th>\n",
              "      <th>023</th>\n",
              "      <th>024</th>\n",
              "      <th>025</th>\n",
              "      <th>...</th>\n",
              "      <th>שולטים</th>\n",
              "      <th>שזו</th>\n",
              "      <th>שטחים</th>\n",
              "      <th>שינוי</th>\n",
              "      <th>שיתעקש</th>\n",
              "      <th>שכל</th>\n",
              "      <th>שכמוני</th>\n",
              "      <th>של</th>\n",
              "      <th>שלו</th>\n",
              "      <th>שנדרש</th>\n",
              "      <th>שני</th>\n",
              "      <th>שעת</th>\n",
              "      <th>שתי</th>\n",
              "      <th>תאמצנה</th>\n",
              "      <th>תוצאה</th>\n",
              "      <th>תחל</th>\n",
              "      <th>תיירות</th>\n",
              "      <th>תנותק</th>\n",
              "      <th>תעודת</th>\n",
              "      <th>תתרכז</th>\n",
              "      <th>أن</th>\n",
              "      <th>إجلاء</th>\n",
              "      <th>الأمر</th>\n",
              "      <th>الجرحى</th>\n",
              "      <th>الدولية</th>\n",
              "      <th>القادمون</th>\n",
              "      <th>اللجنة</th>\n",
              "      <th>تحتاج</th>\n",
              "      <th>تعرفه</th>\n",
              "      <th>تنجح</th>\n",
              "      <th>حلب</th>\n",
              "      <th>عربي</th>\n",
              "      <th>عن</th>\n",
              "      <th>لم</th>\n",
              "      <th>ما</th>\n",
              "      <th>محاولات</th>\n",
              "      <th>من</th>\n",
              "      <th>هذا</th>\n",
              "      <th>والمرضى</th>\n",
              "      <th>ยงade</th>\n",
              "    </tr>\n",
              "  </thead>\n",
              "  <tbody>\n",
              "    <tr>\n",
              "      <th>0</th>\n",
              "      <td>0.0</td>\n",
              "      <td>0.0</td>\n",
              "      <td>0.0</td>\n",
              "      <td>0.0</td>\n",
              "      <td>0.0</td>\n",
              "      <td>0.0</td>\n",
              "      <td>0.0</td>\n",
              "      <td>0.0</td>\n",
              "      <td>0.0</td>\n",
              "      <td>0.0</td>\n",
              "      <td>0.0</td>\n",
              "      <td>0.0</td>\n",
              "      <td>0.0</td>\n",
              "      <td>0.0</td>\n",
              "      <td>0.0</td>\n",
              "      <td>0.0</td>\n",
              "      <td>0.0</td>\n",
              "      <td>0.0</td>\n",
              "      <td>0.0</td>\n",
              "      <td>0.0</td>\n",
              "      <td>0.0</td>\n",
              "      <td>0.0</td>\n",
              "      <td>0.0</td>\n",
              "      <td>0.0</td>\n",
              "      <td>0.0</td>\n",
              "      <td>0.0</td>\n",
              "      <td>0.0</td>\n",
              "      <td>0.0</td>\n",
              "      <td>0.0</td>\n",
              "      <td>0.0</td>\n",
              "      <td>0.0</td>\n",
              "      <td>0.0</td>\n",
              "      <td>0.0</td>\n",
              "      <td>0.0</td>\n",
              "      <td>0.0</td>\n",
              "      <td>0.0</td>\n",
              "      <td>0.0</td>\n",
              "      <td>0.0</td>\n",
              "      <td>0.0</td>\n",
              "      <td>0.0</td>\n",
              "      <td>...</td>\n",
              "      <td>0.0</td>\n",
              "      <td>0.0</td>\n",
              "      <td>0.0</td>\n",
              "      <td>0.0</td>\n",
              "      <td>0.0</td>\n",
              "      <td>0.0</td>\n",
              "      <td>0.0</td>\n",
              "      <td>0.0</td>\n",
              "      <td>0.0</td>\n",
              "      <td>0.0</td>\n",
              "      <td>0.0</td>\n",
              "      <td>0.0</td>\n",
              "      <td>0.0</td>\n",
              "      <td>0.0</td>\n",
              "      <td>0.0</td>\n",
              "      <td>0.0</td>\n",
              "      <td>0.0</td>\n",
              "      <td>0.0</td>\n",
              "      <td>0.0</td>\n",
              "      <td>0.0</td>\n",
              "      <td>0.0</td>\n",
              "      <td>0.0</td>\n",
              "      <td>0.0</td>\n",
              "      <td>0.0</td>\n",
              "      <td>0.0</td>\n",
              "      <td>0.0</td>\n",
              "      <td>0.0</td>\n",
              "      <td>0.0</td>\n",
              "      <td>0.0</td>\n",
              "      <td>0.0</td>\n",
              "      <td>0.0</td>\n",
              "      <td>0.0</td>\n",
              "      <td>0.0</td>\n",
              "      <td>0.0</td>\n",
              "      <td>0.0</td>\n",
              "      <td>0.0</td>\n",
              "      <td>0.0</td>\n",
              "      <td>0.0</td>\n",
              "      <td>0.0</td>\n",
              "      <td>0.0</td>\n",
              "    </tr>\n",
              "    <tr>\n",
              "      <th>1</th>\n",
              "      <td>0.0</td>\n",
              "      <td>0.0</td>\n",
              "      <td>0.0</td>\n",
              "      <td>0.0</td>\n",
              "      <td>0.0</td>\n",
              "      <td>0.0</td>\n",
              "      <td>0.0</td>\n",
              "      <td>0.0</td>\n",
              "      <td>0.0</td>\n",
              "      <td>0.0</td>\n",
              "      <td>0.0</td>\n",
              "      <td>0.0</td>\n",
              "      <td>0.0</td>\n",
              "      <td>0.0</td>\n",
              "      <td>0.0</td>\n",
              "      <td>0.0</td>\n",
              "      <td>0.0</td>\n",
              "      <td>0.0</td>\n",
              "      <td>0.0</td>\n",
              "      <td>0.0</td>\n",
              "      <td>0.0</td>\n",
              "      <td>0.0</td>\n",
              "      <td>0.0</td>\n",
              "      <td>0.0</td>\n",
              "      <td>0.0</td>\n",
              "      <td>0.0</td>\n",
              "      <td>0.0</td>\n",
              "      <td>0.0</td>\n",
              "      <td>0.0</td>\n",
              "      <td>0.0</td>\n",
              "      <td>0.0</td>\n",
              "      <td>0.0</td>\n",
              "      <td>0.0</td>\n",
              "      <td>0.0</td>\n",
              "      <td>0.0</td>\n",
              "      <td>0.0</td>\n",
              "      <td>0.0</td>\n",
              "      <td>0.0</td>\n",
              "      <td>0.0</td>\n",
              "      <td>0.0</td>\n",
              "      <td>...</td>\n",
              "      <td>0.0</td>\n",
              "      <td>0.0</td>\n",
              "      <td>0.0</td>\n",
              "      <td>0.0</td>\n",
              "      <td>0.0</td>\n",
              "      <td>0.0</td>\n",
              "      <td>0.0</td>\n",
              "      <td>0.0</td>\n",
              "      <td>0.0</td>\n",
              "      <td>0.0</td>\n",
              "      <td>0.0</td>\n",
              "      <td>0.0</td>\n",
              "      <td>0.0</td>\n",
              "      <td>0.0</td>\n",
              "      <td>0.0</td>\n",
              "      <td>0.0</td>\n",
              "      <td>0.0</td>\n",
              "      <td>0.0</td>\n",
              "      <td>0.0</td>\n",
              "      <td>0.0</td>\n",
              "      <td>0.0</td>\n",
              "      <td>0.0</td>\n",
              "      <td>0.0</td>\n",
              "      <td>0.0</td>\n",
              "      <td>0.0</td>\n",
              "      <td>0.0</td>\n",
              "      <td>0.0</td>\n",
              "      <td>0.0</td>\n",
              "      <td>0.0</td>\n",
              "      <td>0.0</td>\n",
              "      <td>0.0</td>\n",
              "      <td>0.0</td>\n",
              "      <td>0.0</td>\n",
              "      <td>0.0</td>\n",
              "      <td>0.0</td>\n",
              "      <td>0.0</td>\n",
              "      <td>0.0</td>\n",
              "      <td>0.0</td>\n",
              "      <td>0.0</td>\n",
              "      <td>0.0</td>\n",
              "    </tr>\n",
              "    <tr>\n",
              "      <th>2</th>\n",
              "      <td>0.0</td>\n",
              "      <td>0.0</td>\n",
              "      <td>0.0</td>\n",
              "      <td>0.0</td>\n",
              "      <td>0.0</td>\n",
              "      <td>0.0</td>\n",
              "      <td>0.0</td>\n",
              "      <td>0.0</td>\n",
              "      <td>0.0</td>\n",
              "      <td>0.0</td>\n",
              "      <td>0.0</td>\n",
              "      <td>0.0</td>\n",
              "      <td>0.0</td>\n",
              "      <td>0.0</td>\n",
              "      <td>0.0</td>\n",
              "      <td>0.0</td>\n",
              "      <td>0.0</td>\n",
              "      <td>0.0</td>\n",
              "      <td>0.0</td>\n",
              "      <td>0.0</td>\n",
              "      <td>0.0</td>\n",
              "      <td>0.0</td>\n",
              "      <td>0.0</td>\n",
              "      <td>0.0</td>\n",
              "      <td>0.0</td>\n",
              "      <td>0.0</td>\n",
              "      <td>0.0</td>\n",
              "      <td>0.0</td>\n",
              "      <td>0.0</td>\n",
              "      <td>0.0</td>\n",
              "      <td>0.0</td>\n",
              "      <td>0.0</td>\n",
              "      <td>0.0</td>\n",
              "      <td>0.0</td>\n",
              "      <td>0.0</td>\n",
              "      <td>0.0</td>\n",
              "      <td>0.0</td>\n",
              "      <td>0.0</td>\n",
              "      <td>0.0</td>\n",
              "      <td>0.0</td>\n",
              "      <td>...</td>\n",
              "      <td>0.0</td>\n",
              "      <td>0.0</td>\n",
              "      <td>0.0</td>\n",
              "      <td>0.0</td>\n",
              "      <td>0.0</td>\n",
              "      <td>0.0</td>\n",
              "      <td>0.0</td>\n",
              "      <td>0.0</td>\n",
              "      <td>0.0</td>\n",
              "      <td>0.0</td>\n",
              "      <td>0.0</td>\n",
              "      <td>0.0</td>\n",
              "      <td>0.0</td>\n",
              "      <td>0.0</td>\n",
              "      <td>0.0</td>\n",
              "      <td>0.0</td>\n",
              "      <td>0.0</td>\n",
              "      <td>0.0</td>\n",
              "      <td>0.0</td>\n",
              "      <td>0.0</td>\n",
              "      <td>0.0</td>\n",
              "      <td>0.0</td>\n",
              "      <td>0.0</td>\n",
              "      <td>0.0</td>\n",
              "      <td>0.0</td>\n",
              "      <td>0.0</td>\n",
              "      <td>0.0</td>\n",
              "      <td>0.0</td>\n",
              "      <td>0.0</td>\n",
              "      <td>0.0</td>\n",
              "      <td>0.0</td>\n",
              "      <td>0.0</td>\n",
              "      <td>0.0</td>\n",
              "      <td>0.0</td>\n",
              "      <td>0.0</td>\n",
              "      <td>0.0</td>\n",
              "      <td>0.0</td>\n",
              "      <td>0.0</td>\n",
              "      <td>0.0</td>\n",
              "      <td>0.0</td>\n",
              "    </tr>\n",
              "    <tr>\n",
              "      <th>3</th>\n",
              "      <td>0.0</td>\n",
              "      <td>0.0</td>\n",
              "      <td>0.0</td>\n",
              "      <td>0.0</td>\n",
              "      <td>0.0</td>\n",
              "      <td>0.0</td>\n",
              "      <td>0.0</td>\n",
              "      <td>0.0</td>\n",
              "      <td>0.0</td>\n",
              "      <td>0.0</td>\n",
              "      <td>0.0</td>\n",
              "      <td>0.0</td>\n",
              "      <td>0.0</td>\n",
              "      <td>0.0</td>\n",
              "      <td>0.0</td>\n",
              "      <td>0.0</td>\n",
              "      <td>0.0</td>\n",
              "      <td>0.0</td>\n",
              "      <td>0.0</td>\n",
              "      <td>0.0</td>\n",
              "      <td>0.0</td>\n",
              "      <td>0.0</td>\n",
              "      <td>0.0</td>\n",
              "      <td>0.0</td>\n",
              "      <td>0.0</td>\n",
              "      <td>0.0</td>\n",
              "      <td>0.0</td>\n",
              "      <td>0.0</td>\n",
              "      <td>0.0</td>\n",
              "      <td>0.0</td>\n",
              "      <td>0.0</td>\n",
              "      <td>0.0</td>\n",
              "      <td>0.0</td>\n",
              "      <td>0.0</td>\n",
              "      <td>0.0</td>\n",
              "      <td>0.0</td>\n",
              "      <td>0.0</td>\n",
              "      <td>0.0</td>\n",
              "      <td>0.0</td>\n",
              "      <td>0.0</td>\n",
              "      <td>...</td>\n",
              "      <td>0.0</td>\n",
              "      <td>0.0</td>\n",
              "      <td>0.0</td>\n",
              "      <td>0.0</td>\n",
              "      <td>0.0</td>\n",
              "      <td>0.0</td>\n",
              "      <td>0.0</td>\n",
              "      <td>0.0</td>\n",
              "      <td>0.0</td>\n",
              "      <td>0.0</td>\n",
              "      <td>0.0</td>\n",
              "      <td>0.0</td>\n",
              "      <td>0.0</td>\n",
              "      <td>0.0</td>\n",
              "      <td>0.0</td>\n",
              "      <td>0.0</td>\n",
              "      <td>0.0</td>\n",
              "      <td>0.0</td>\n",
              "      <td>0.0</td>\n",
              "      <td>0.0</td>\n",
              "      <td>0.0</td>\n",
              "      <td>0.0</td>\n",
              "      <td>0.0</td>\n",
              "      <td>0.0</td>\n",
              "      <td>0.0</td>\n",
              "      <td>0.0</td>\n",
              "      <td>0.0</td>\n",
              "      <td>0.0</td>\n",
              "      <td>0.0</td>\n",
              "      <td>0.0</td>\n",
              "      <td>0.0</td>\n",
              "      <td>0.0</td>\n",
              "      <td>0.0</td>\n",
              "      <td>0.0</td>\n",
              "      <td>0.0</td>\n",
              "      <td>0.0</td>\n",
              "      <td>0.0</td>\n",
              "      <td>0.0</td>\n",
              "      <td>0.0</td>\n",
              "      <td>0.0</td>\n",
              "    </tr>\n",
              "    <tr>\n",
              "      <th>4</th>\n",
              "      <td>0.0</td>\n",
              "      <td>0.0</td>\n",
              "      <td>0.0</td>\n",
              "      <td>0.0</td>\n",
              "      <td>0.0</td>\n",
              "      <td>0.0</td>\n",
              "      <td>0.0</td>\n",
              "      <td>0.0</td>\n",
              "      <td>0.0</td>\n",
              "      <td>0.0</td>\n",
              "      <td>0.0</td>\n",
              "      <td>0.0</td>\n",
              "      <td>0.0</td>\n",
              "      <td>0.0</td>\n",
              "      <td>0.0</td>\n",
              "      <td>0.0</td>\n",
              "      <td>0.0</td>\n",
              "      <td>0.0</td>\n",
              "      <td>0.0</td>\n",
              "      <td>0.0</td>\n",
              "      <td>0.0</td>\n",
              "      <td>0.0</td>\n",
              "      <td>0.0</td>\n",
              "      <td>0.0</td>\n",
              "      <td>0.0</td>\n",
              "      <td>0.0</td>\n",
              "      <td>0.0</td>\n",
              "      <td>0.0</td>\n",
              "      <td>0.0</td>\n",
              "      <td>0.0</td>\n",
              "      <td>0.0</td>\n",
              "      <td>0.0</td>\n",
              "      <td>0.0</td>\n",
              "      <td>0.0</td>\n",
              "      <td>0.0</td>\n",
              "      <td>0.0</td>\n",
              "      <td>0.0</td>\n",
              "      <td>0.0</td>\n",
              "      <td>0.0</td>\n",
              "      <td>0.0</td>\n",
              "      <td>...</td>\n",
              "      <td>0.0</td>\n",
              "      <td>0.0</td>\n",
              "      <td>0.0</td>\n",
              "      <td>0.0</td>\n",
              "      <td>0.0</td>\n",
              "      <td>0.0</td>\n",
              "      <td>0.0</td>\n",
              "      <td>0.0</td>\n",
              "      <td>0.0</td>\n",
              "      <td>0.0</td>\n",
              "      <td>0.0</td>\n",
              "      <td>0.0</td>\n",
              "      <td>0.0</td>\n",
              "      <td>0.0</td>\n",
              "      <td>0.0</td>\n",
              "      <td>0.0</td>\n",
              "      <td>0.0</td>\n",
              "      <td>0.0</td>\n",
              "      <td>0.0</td>\n",
              "      <td>0.0</td>\n",
              "      <td>0.0</td>\n",
              "      <td>0.0</td>\n",
              "      <td>0.0</td>\n",
              "      <td>0.0</td>\n",
              "      <td>0.0</td>\n",
              "      <td>0.0</td>\n",
              "      <td>0.0</td>\n",
              "      <td>0.0</td>\n",
              "      <td>0.0</td>\n",
              "      <td>0.0</td>\n",
              "      <td>0.0</td>\n",
              "      <td>0.0</td>\n",
              "      <td>0.0</td>\n",
              "      <td>0.0</td>\n",
              "      <td>0.0</td>\n",
              "      <td>0.0</td>\n",
              "      <td>0.0</td>\n",
              "      <td>0.0</td>\n",
              "      <td>0.0</td>\n",
              "      <td>0.0</td>\n",
              "    </tr>\n",
              "  </tbody>\n",
              "</table>\n",
              "<p>5 rows × 56922 columns</p>\n",
              "</div>"
            ],
            "text/plain": [
              "    00  000  0000  00000031  000035  ...  محاولات   من  هذا  والمرضى  ยงade\n",
              "0  0.0  0.0   0.0       0.0     0.0  ...      0.0  0.0  0.0      0.0    0.0\n",
              "1  0.0  0.0   0.0       0.0     0.0  ...      0.0  0.0  0.0      0.0    0.0\n",
              "2  0.0  0.0   0.0       0.0     0.0  ...      0.0  0.0  0.0      0.0    0.0\n",
              "3  0.0  0.0   0.0       0.0     0.0  ...      0.0  0.0  0.0      0.0    0.0\n",
              "4  0.0  0.0   0.0       0.0     0.0  ...      0.0  0.0  0.0      0.0    0.0\n",
              "\n",
              "[5 rows x 56922 columns]"
            ]
          },
          "metadata": {
            "tags": []
          },
          "execution_count": 131
        }
      ]
    },
    {
      "cell_type": "markdown",
      "metadata": {
        "id": "qFSh3_SGT9m3",
        "colab_type": "text"
      },
      "source": [
        "**Confusion Matrix**"
      ]
    },
    {
      "cell_type": "code",
      "metadata": {
        "id": "X9FdfeREQ9NU",
        "colab_type": "code",
        "colab": {}
      },
      "source": [
        "def plot_confusion_matrix(cm, classes,\n",
        "                          normalize=False,\n",
        "                          title='Confusion matrix',\n",
        "                          cmap=plt.cm.Blues):\n",
        "\n",
        "    plt.imshow(cm, interpolation='nearest', cmap=cmap)\n",
        "    plt.title(title)\n",
        "    plt.colorbar()\n",
        "    tick_marks = np.arange(len(classes))\n",
        "    plt.xticks(tick_marks, classes, rotation=45)\n",
        "    plt.yticks(tick_marks, classes)\n",
        "\n",
        "    if normalize:\n",
        "        cm = cm.astype('float') / cm.sum(axis=1)[:, np.newaxis]\n",
        "        print(\"Normalized confusion matrix\")\n",
        "    else:\n",
        "        print('Confusion matrix, without normalization')\n",
        "\n",
        "    thresh = cm.max() / 2.\n",
        "    for i, j in itertools.product(range(cm.shape[0]), range(cm.shape[1])):\n",
        "        plt.text(j, i, cm[i, j],\n",
        "                 horizontalalignment=\"center\",\n",
        "                 color=\"white\" if cm[i, j] > thresh else \"black\")\n",
        "\n",
        "    plt.tight_layout()\n",
        "    plt.ylabel('True label')\n",
        "    plt.xlabel('Predicted label')"
      ],
      "execution_count": 0,
      "outputs": []
    },
    {
      "cell_type": "markdown",
      "metadata": {
        "id": "hi-sh0V-UE34",
        "colab_type": "text"
      },
      "source": [
        "**Classifiers...**"
      ]
    },
    {
      "cell_type": "code",
      "metadata": {
        "id": "CscyNkrsREVG",
        "colab_type": "code",
        "colab": {}
      },
      "source": [
        "clf = MultinomialNB() "
      ],
      "execution_count": 0,
      "outputs": []
    },
    {
      "cell_type": "code",
      "metadata": {
        "id": "VORXXXcXRIp5",
        "colab_type": "code",
        "outputId": "8056e408-32da-42d5-9137-6d535bb91945",
        "colab": {
          "base_uri": "https://localhost:8080/",
          "height": 345
        }
      },
      "source": [
        "clf.fit(tfidf_train, y_train)\n",
        "pred = clf.predict(tfidf_test)\n",
        "score = metrics.accuracy_score(y_test, pred)\n",
        "print(\"accuracy:   %0.3f\" % score)\n",
        "cm = metrics.confusion_matrix(y_test, pred, labels=['FAKE', 'REAL'])\n",
        "plot_confusion_matrix(cm, classes=['FAKE', 'REAL'])"
      ],
      "execution_count": 0,
      "outputs": [
        {
          "output_type": "stream",
          "text": [
            "accuracy:   0.857\n",
            "Confusion matrix, without normalization\n"
          ],
          "name": "stdout"
        },
        {
          "output_type": "display_data",
          "data": {
            "image/png": "[encoded data removed]",
            "text/plain": [
              "<Figure size 432x288 with 2 Axes>"
            ]
          },
          "metadata": {
            "tags": []
          }
        }
      ]
    },
    {
      "cell_type": "code",
      "metadata": {
        "id": "HE8DEEZSRKJx",
        "colab_type": "code",
        "colab": {}
      },
      "source": [
        "clf = MultinomialNB() "
      ],
      "execution_count": 0,
      "outputs": []
    },
    {
      "cell_type": "code",
      "metadata": {
        "id": "f6KlH66_RPm_",
        "colab_type": "code",
        "outputId": "dd1f7d91-3264-4087-d09f-2c2462229844",
        "colab": {
          "base_uri": "https://localhost:8080/",
          "height": 345
        }
      },
      "source": [
        "clf.fit(count_train, y_train)\n",
        "pred = clf.predict(count_test)\n",
        "score = metrics.accuracy_score(y_test, pred)\n",
        "print(\"accuracy:   %0.3f\" % score)\n",
        "cm = metrics.confusion_matrix(y_test, pred, labels=['FAKE', 'REAL'])\n",
        "plot_confusion_matrix(cm, classes=['FAKE', 'REAL'])"
      ],
      "execution_count": 0,
      "outputs": [
        {
          "output_type": "stream",
          "text": [
            "accuracy:   0.893\n",
            "Confusion matrix, without normalization\n"
          ],
          "name": "stdout"
        },
        {
          "output_type": "display_data",
          "data": {
            "image/png": "[encoded data removed]",
            "text/plain": [
              "<Figure size 432x288 with 2 Axes>"
            ]
          },
          "metadata": {
            "tags": []
          }
        }
      ]
    },
    {
      "cell_type": "code",
      "metadata": {
        "id": "QbYNI1_ARZSJ",
        "colab_type": "code",
        "colab": {}
      },
      "source": [
        "linear_clf = PassiveAggressiveClassifier(n_iter_no_change=50)"
      ],
      "execution_count": 0,
      "outputs": []
    },
    {
      "cell_type": "code",
      "metadata": {
        "id": "72mduhTDRaSP",
        "colab_type": "code",
        "outputId": "9a7f6237-db5a-4c63-9d35-3c8a838457ba",
        "colab": {
          "base_uri": "https://localhost:8080/",
          "height": 345
        }
      },
      "source": [
        "linear_clf.fit(tfidf_train, y_train)\n",
        "pred = linear_clf.predict(tfidf_test)\n",
        "score = metrics.accuracy_score(y_test, pred)\n",
        "print(\"accuracy:   %0.3f\" % score)\n",
        "cm = metrics.confusion_matrix(y_test, pred, labels=['FAKE', 'REAL'])\n",
        "plot_confusion_matrix(cm, classes=['FAKE', 'REAL'])"
      ],
      "execution_count": 0,
      "outputs": [
        {
          "output_type": "stream",
          "text": [
            "accuracy:   0.938\n",
            "Confusion matrix, without normalization\n"
          ],
          "name": "stdout"
        },
        {
          "output_type": "display_data",
          "data": {
            "image/png": "[encoded data removed]",
            "text/plain": [
              "<Figure size 432x288 with 2 Axes>"
            ]
          },
          "metadata": {
            "tags": []
          }
        }
      ]
    },
    {
      "cell_type": "markdown",
      "metadata": {
        "id": "pdt4XC-RUuX1",
        "colab_type": "text"
      },
      "source": [
        "**Alpha value(For Tuning)...**"
      ]
    },
    {
      "cell_type": "code",
      "metadata": {
        "id": "-MEdf6BmRdXH",
        "colab_type": "code",
        "colab": {}
      },
      "source": [
        "clf = MultinomialNB(alpha=0.1)"
      ],
      "execution_count": 0,
      "outputs": []
    },
    {
      "cell_type": "code",
      "metadata": {
        "id": "mX3cndELRh0K",
        "colab_type": "code",
        "outputId": "6e85ca1c-fd46-4df8-86ce-23481abe7859",
        "colab": {
          "base_uri": "https://localhost:8080/",
          "height": 241
        }
      },
      "source": [
        "last_score = 0\n",
        "for alpha in np.arange(0,1,.1):\n",
        "    nb_classifier = MultinomialNB(alpha=alpha)\n",
        "    nb_classifier.fit(tfidf_train, y_train)\n",
        "    pred = nb_classifier.predict(tfidf_test)\n",
        "    score = metrics.accuracy_score(y_test, pred)\n",
        "    if score > last_score:\n",
        "        clf = nb_classifier\n",
        "    print(\"Alpha: {:.2f} Score: {:.5f}\".format(alpha, score))"
      ],
      "execution_count": 0,
      "outputs": [
        {
          "output_type": "stream",
          "text": [
            "/usr/local/lib/python3.6/dist-packages/sklearn/naive_bayes.py:507: UserWarning: alpha too small will result in numeric errors, setting alpha = 1.0e-10\n",
            "  'setting alpha = %.1e' % _ALPHA_MIN)\n"
          ],
          "name": "stderr"
        },
        {
          "output_type": "stream",
          "text": [
            "Alpha: 0.00 Score: 0.88140\n",
            "Alpha: 0.10 Score: 0.89766\n",
            "Alpha: 0.20 Score: 0.89383\n",
            "Alpha: 0.30 Score: 0.89000\n",
            "Alpha: 0.40 Score: 0.88570\n",
            "Alpha: 0.50 Score: 0.88427\n",
            "Alpha: 0.60 Score: 0.87470\n",
            "Alpha: 0.70 Score: 0.87040\n",
            "Alpha: 0.80 Score: 0.86609\n",
            "Alpha: 0.90 Score: 0.85892\n"
          ],
          "name": "stdout"
        }
      ]
    },
    {
      "cell_type": "markdown",
      "metadata": {
        "id": "wReGb_EAUvI3",
        "colab_type": "text"
      },
      "source": [
        "**Comparing Classifiers models...**"
      ]
    },
    {
      "cell_type": "code",
      "metadata": {
        "id": "Wm0GGrYmUgtN",
        "colab_type": "code",
        "colab": {}
      },
      "source": [
        "mn_count_clf = MultinomialNB(alpha=0.1) "
      ],
      "execution_count": 0,
      "outputs": []
    },
    {
      "cell_type": "code",
      "metadata": {
        "id": "sRgmVKEPVUFo",
        "colab_type": "code",
        "outputId": "3578e96b-cd3c-4565-bf3a-fea15a7006a8",
        "colab": {
          "base_uri": "https://localhost:8080/",
          "height": 34
        }
      },
      "source": [
        "mn_count_clf.fit(count_train, y_train)\n",
        "pred = mn_count_clf.predict(count_test)\n",
        "score = metrics.accuracy_score(y_test, pred)\n",
        "print(\"accuracy:   %0.3f\" % score)"
      ],
      "execution_count": 0,
      "outputs": [
        {
          "output_type": "stream",
          "text": [
            "accuracy:   0.893\n"
          ],
          "name": "stdout"
        }
      ]
    },
    {
      "cell_type": "code",
      "metadata": {
        "id": "tSGWovjRVVff",
        "colab_type": "code",
        "colab": {}
      },
      "source": [
        "mn_tfidf_clf = MultinomialNB(alpha=0.1) "
      ],
      "execution_count": 0,
      "outputs": []
    },
    {
      "cell_type": "code",
      "metadata": {
        "id": "OMdEgtmgVVzt",
        "colab_type": "code",
        "outputId": "b53a81cd-649a-482b-dd0c-292b621b53b7",
        "colab": {
          "base_uri": "https://localhost:8080/",
          "height": 34
        }
      },
      "source": [
        "mn_tfidf_clf.fit(tfidf_train, y_train)\n",
        "pred = mn_tfidf_clf.predict(tfidf_test)\n",
        "score = metrics.accuracy_score(y_test, pred)\n",
        "print(\"accuracy:   %0.3f\" % score)"
      ],
      "execution_count": 0,
      "outputs": [
        {
          "output_type": "stream",
          "text": [
            "accuracy:   0.898\n"
          ],
          "name": "stdout"
        }
      ]
    },
    {
      "cell_type": "code",
      "metadata": {
        "id": "lzf2MkdaVWCP",
        "colab_type": "code",
        "colab": {}
      },
      "source": [
        "pa_tfidf_clf = PassiveAggressiveClassifier()"
      ],
      "execution_count": 0,
      "outputs": []
    },
    {
      "cell_type": "code",
      "metadata": {
        "id": "7lG-MTMwVWOk",
        "colab_type": "code",
        "outputId": "f9f52eca-be78-40b8-c6ee-cf9436e3eb2a",
        "colab": {
          "base_uri": "https://localhost:8080/",
          "height": 34
        }
      },
      "source": [
        "pa_tfidf_clf.fit(tfidf_train, y_train)\n",
        "pred = pa_tfidf_clf.predict(tfidf_test)\n",
        "score = metrics.accuracy_score(y_test, pred)\n",
        "print(\"accuracy:   %0.3f\" % score)"
      ],
      "execution_count": 0,
      "outputs": [
        {
          "output_type": "stream",
          "text": [
            "accuracy:   0.937\n"
          ],
          "name": "stdout"
        }
      ]
    },
    {
      "cell_type": "code",
      "metadata": {
        "id": "tCcei-O8VWeb",
        "colab_type": "code",
        "colab": {}
      },
      "source": [
        "svc_tfidf_clf = LinearSVC()"
      ],
      "execution_count": 0,
      "outputs": []
    },
    {
      "cell_type": "code",
      "metadata": {
        "id": "kzELOJwgVWn1",
        "colab_type": "code",
        "outputId": "f8ef9946-661f-435b-fe6c-045560fe32d4",
        "colab": {
          "base_uri": "https://localhost:8080/",
          "height": 34
        }
      },
      "source": [
        "svc_tfidf_clf.fit(tfidf_train, y_train)\n",
        "pred = svc_tfidf_clf.predict(tfidf_test)\n",
        "score = metrics.accuracy_score(y_test, pred)\n",
        "print(\"accuracy:   %0.3f\" % score)"
      ],
      "execution_count": 0,
      "outputs": [
        {
          "output_type": "stream",
          "text": [
            "accuracy:   0.936\n"
          ],
          "name": "stdout"
        }
      ]
    },
    {
      "cell_type": "code",
      "metadata": {
        "id": "FrPpe2EKVlG0",
        "colab_type": "code",
        "colab": {}
      },
      "source": [
        "sgd_tfidf_clf = SGDClassifier()"
      ],
      "execution_count": 0,
      "outputs": []
    },
    {
      "cell_type": "code",
      "metadata": {
        "id": "POlfiWzyVlfE",
        "colab_type": "code",
        "outputId": "6176060d-3f98-4d69-a090-aed8837ab1a1",
        "colab": {
          "base_uri": "https://localhost:8080/",
          "height": 34
        }
      },
      "source": [
        "sgd_tfidf_clf.fit(tfidf_train, y_train)\n",
        "pred = sgd_tfidf_clf.predict(tfidf_test)\n",
        "score = metrics.accuracy_score(y_test, pred)\n",
        "print(\"accuracy:   %0.3f\" % score)"
      ],
      "execution_count": 0,
      "outputs": [
        {
          "output_type": "stream",
          "text": [
            "accuracy:   0.937\n"
          ],
          "name": "stdout"
        }
      ]
    },
    {
      "cell_type": "code",
      "metadata": {
        "id": "wAeUsGJeVukT",
        "colab_type": "code",
        "colab": {}
      },
      "source": [
        "sgd_tfidf_clf.decision_function?"
      ],
      "execution_count": 0,
      "outputs": []
    },
    {
      "cell_type": "code",
      "metadata": {
        "id": "ZlWY7--tVvAD",
        "colab_type": "code",
        "colab": {}
      },
      "source": [
        "mn_count_clf.predict_proba?"
      ],
      "execution_count": 0,
      "outputs": []
    },
    {
      "cell_type": "code",
      "metadata": {
        "id": "ekagkNwnVvMQ",
        "colab_type": "code",
        "outputId": "3c03dacc-c1ab-4790-b4a3-5c88634b3807",
        "colab": {
          "base_uri": "https://localhost:8080/",
          "height": 282
        }
      },
      "source": [
        "plt.figure(0).clf()\n",
        "\n",
        "for model, name in [ (mn_count_clf, 'multinomial nb count'),\n",
        "                     (mn_tfidf_clf, 'multinomial nb tfidf'),\n",
        "                     (pa_tfidf_clf, 'passive aggressive'),\n",
        "                     (svc_tfidf_clf, 'svc'),\n",
        "                     (sgd_tfidf_clf, 'sgd')]:\n",
        "    if 'count' in name:\n",
        "        pred = model.predict_proba(count_test)[:,1]\n",
        "    elif 'multinomial' in name:\n",
        "        pred = model.predict_proba(tfidf_test)[:,1]\n",
        "    else: \n",
        "        pred = model.decision_function(tfidf_test)\n",
        "    fpr, tpr, thresh = metrics.roc_curve(y_test.values, pred, pos_label='REAL')\n",
        "    plt.plot(fpr,tpr,label=\"{}\".format(name))\n",
        "\n",
        "plt.legend(loc=0)"
      ],
      "execution_count": 0,
      "outputs": [
        {
          "output_type": "execute_result",
          "data": {
            "text/plain": [
              "<matplotlib.legend.Legend at 0x7fd27b830860>"
            ]
          },
          "metadata": {
            "tags": []
          },
          "execution_count": 153
        },
        {
          "output_type": "display_data",
          "data": {
            "image/png": "[encoded data removed]",
            "text/plain": [
              "<Figure size 432x288 with 1 Axes>"
            ]
          },
          "metadata": {
            "tags": []
          }
        }
      ]
    },
    {
      "cell_type": "markdown",
      "metadata": {
        "id": "o5xHzU3xUR9L",
        "colab_type": "text"
      },
      "source": [
        "**Introspecting model as per label...**"
      ]
    },
    {
      "cell_type": "code",
      "metadata": {
        "id": "BaSWhtWcRkbF",
        "colab_type": "code",
        "outputId": "7e8e622d-c881-4151-8e8b-1c7959d53a5a",
        "colab": {
          "base_uri": "https://localhost:8080/",
          "height": 1000
        }
      },
      "source": [
        "def most_informative_feature_for_binary_classification(vectorizer, classifier, n=100):\n",
        "    class_labels = classifier.classes_\n",
        "    feature_names = vectorizer.get_feature_names()\n",
        "    topn_class1 = sorted(zip(classifier.coef_[0], feature_names))[:n]\n",
        "    topn_class2 = sorted(zip(classifier.coef_[0], feature_names))[-n:]\n",
        "\n",
        "    for coef, feat in topn_class1:\n",
        "        print(class_labels[0], coef, feat)\n",
        "\n",
        "    print()\n",
        "\n",
        "    for coef, feat in reversed(topn_class2):\n",
        "        print(class_labels[1], coef, feat)\n",
        "\n",
        "\n",
        "most_informative_feature_for_binary_classification(tfidf_vectorizer, linear_clf, n=30)"
      ],
      "execution_count": 0,
      "outputs": [
        {
          "output_type": "stream",
          "text": [
            "FAKE -4.798914075199007 2016\n",
            "FAKE -4.135411609486691 october\n",
            "FAKE -4.061289093009295 hillary\n",
            "FAKE -3.1577153355215586 article\n",
            "FAKE -3.0213453754250774 share\n",
            "FAKE -2.799316226841112 november\n",
            "FAKE -2.564665796889061 print\n",
            "FAKE -2.5376756411861163 advertisement\n",
            "FAKE -2.3152427760813303 email\n",
            "FAKE -2.3132157554949844 oct\n",
            "FAKE -2.266208146938329 war\n",
            "FAKE -2.145590781661677 mosul\n",
            "FAKE -2.1323376387892785 election\n",
            "FAKE -2.0728484029257923 nov\n",
            "FAKE -2.0660138003555355 podesta\n",
            "FAKE -2.0582903059090163 source\n",
            "FAKE -1.9092474665388652 wikileaks\n",
            "FAKE -1.9086527459022569 26\n",
            "FAKE -1.8255725854185683 establishment\n",
            "FAKE -1.7760736689059793 pipeline\n",
            "FAKE -1.7498358280629789 jewish\n",
            "FAKE -1.7153079221574845 corporate\n",
            "FAKE -1.7092157420221592 com\n",
            "FAKE -1.6973410025754325 donald\n",
            "FAKE -1.6915958614384603 photo\n",
            "FAKE -1.6750611305714014 ayotte\n",
            "FAKE -1.6664157417308973 dr\n",
            "FAKE -1.6475874124392622 snip\n",
            "FAKE -1.6315714692955952 brexit\n",
            "FAKE -1.6087480838842432 entire\n",
            "\n",
            "REAL 4.788531702215761 said\n",
            "REAL 2.715184225866565 tuesday\n",
            "REAL 2.542560953159608 says\n",
            "REAL 2.4048845786705133 conservative\n",
            "REAL 2.3163959014842077 cruz\n",
            "REAL 2.261324598625925 gop\n",
            "REAL 2.2352156284415363 friday\n",
            "REAL 2.2187207182721913 islamic\n",
            "REAL 2.2078513868094665 monday\n",
            "REAL 2.2058438808929774 jobs\n",
            "REAL 2.183265543029493 marriage\n",
            "REAL 2.13970146558577 sunday\n",
            "REAL 2.1301631152230103 rush\n",
            "REAL 2.0891139902233213 candidates\n",
            "REAL 1.9833893210283253 deal\n",
            "REAL 1.9663767716261686 attacks\n",
            "REAL 1.9336473836115764 say\n",
            "REAL 1.919248203841822 continue\n",
            "REAL 1.889128765015502 debate\n",
            "REAL 1.8735968607754825 sen\n",
            "REAL 1.8571917372917999 convention\n",
            "REAL 1.8548841639222897 hispanic\n",
            "REAL 1.811896824697642 march\n",
            "REAL 1.7787660609636078 presumptive\n",
            "REAL 1.75318697007243 conservatives\n",
            "REAL 1.7477658192228733 recounts\n",
            "REAL 1.7268627491581388 fox\n",
            "REAL 1.7077601276515786 attack\n",
            "REAL 1.7061829566967481 campaign\n",
            "REAL 1.6874842559161531 paris\n"
          ],
          "name": "stdout"
        }
      ]
    },
    {
      "cell_type": "code",
      "metadata": {
        "id": "jUGr2w_IRs3x",
        "colab_type": "code",
        "colab": {}
      },
      "source": [
        "feature_names = tfidf_vectorizer.get_feature_names()"
      ],
      "execution_count": 0,
      "outputs": []
    },
    {
      "cell_type": "code",
      "metadata": {
        "id": "aGMxjml9Ruyf",
        "colab_type": "code",
        "outputId": "6bc42c17-eb8e-4396-df8b-c73199bf36d5",
        "colab": {
          "base_uri": "https://localhost:8080/",
          "height": 357
        }
      },
      "source": [
        "### Most real\n",
        "sorted(zip(clf.coef_[0], feature_names), reverse=True)[:20]"
      ],
      "execution_count": 0,
      "outputs": [
        {
          "output_type": "execute_result",
          "data": {
            "text/plain": [
              "[(-6.257361214701583, 'trump'),\n",
              " (-6.494453094312678, 'said'),\n",
              " (-6.6539784739838845, 'clinton'),\n",
              " (-7.037944662867073, 'obama'),\n",
              " (-7.146539983381228, 'sanders'),\n",
              " (-7.215376008647511, 'president'),\n",
              " (-7.266562805741618, 'campaign'),\n",
              " (-7.2875931446681514, 'republican'),\n",
              " (-7.341118458599064, 'state'),\n",
              " (-7.341357110247905, 'cruz'),\n",
              " (-7.378312441985425, 'party'),\n",
              " (-7.44688067245789, 'new'),\n",
              " (-7.476288801154588, 'people'),\n",
              " (-7.547225599514773, 'percent'),\n",
              " (-7.5553074094582335, 'bush'),\n",
              " (-7.580150633909893, 'republicans'),\n",
              " (-7.5855405012652435, 'house'),\n",
              " (-7.634478172520314, 'voters'),\n",
              " (-7.648482443695299, 'rubio'),\n",
              " (-7.6734836186463795, 'states')]"
            ]
          },
          "metadata": {
            "tags": []
          },
          "execution_count": 156
        }
      ]
    },
    {
      "cell_type": "code",
      "metadata": {
        "id": "PJOMgcEDRxvN",
        "colab_type": "code",
        "outputId": "910340ad-d72a-4ec7-b648-2ca7c2852a23",
        "colab": {
          "base_uri": "https://localhost:8080/",
          "height": 357
        }
      },
      "source": [
        "### Most fake\n",
        "sorted(zip(clf.coef_[0], feature_names))[:20]"
      ],
      "execution_count": 0,
      "outputs": [
        {
          "output_type": "execute_result",
          "data": {
            "text/plain": [
              "[(-11.349866225220305, '0000'),\n",
              " (-11.349866225220305, '000035'),\n",
              " (-11.349866225220305, '0001'),\n",
              " (-11.349866225220305, '0001pt'),\n",
              " (-11.349866225220305, '000km'),\n",
              " (-11.349866225220305, '0011'),\n",
              " (-11.349866225220305, '006s'),\n",
              " (-11.349866225220305, '007'),\n",
              " (-11.349866225220305, '007s'),\n",
              " (-11.349866225220305, '008s'),\n",
              " (-11.349866225220305, '0099'),\n",
              " (-11.349866225220305, '00am'),\n",
              " (-11.349866225220305, '00p'),\n",
              " (-11.349866225220305, '00pm'),\n",
              " (-11.349866225220305, '014'),\n",
              " (-11.349866225220305, '015'),\n",
              " (-11.349866225220305, '018'),\n",
              " (-11.349866225220305, '01am'),\n",
              " (-11.349866225220305, '020'),\n",
              " (-11.349866225220305, '023')]"
            ]
          },
          "metadata": {
            "tags": []
          },
          "execution_count": 157
        }
      ]
    },
    {
      "cell_type": "code",
      "metadata": {
        "id": "lSfmIN-DR7Gh",
        "colab_type": "code",
        "colab": {}
      },
      "source": [
        "tokens_with_weights = sorted(list(zip(feature_names, clf.coef_[0])))"
      ],
      "execution_count": 0,
      "outputs": []
    },
    {
      "cell_type": "markdown",
      "metadata": {
        "id": "HbBE-wQaX3if",
        "colab_type": "text"
      },
      "source": [
        "**Introspecting Model to categorized tokens(Keywords) of news using Classifier inspection**"
      ]
    },
    {
      "cell_type": "code",
      "metadata": {
        "id": "afZv-76Qa-eL",
        "colab_type": "code",
        "outputId": "f2cb9a38-d27a-4c8f-e03b-fee10a92b512",
        "colab": {
          "base_uri": "https://localhost:8080/",
          "height": 357
        }
      },
      "source": [
        "def most_informative_feature_for_binary_classification(vectorizer, classifier, n=100):\n",
        "    class_labels = classifier.classes_\n",
        "    feature_names = vectorizer.get_feature_names()\n",
        "    topn_class1 = sorted(zip(classifier.coef_[0], feature_names))[:n]\n",
        "    topn_class2 = sorted(zip(classifier.coef_[0], feature_names))[-n:]\n",
        "\n",
        "    return {class_labels[0]: topn_class1,\n",
        "            class_labels[1]: topn_class2\n",
        "    }\n",
        "\n",
        "\n",
        "most_informative_feature_for_binary_classification(tfidf_vectorizer, pa_tfidf_clf, n=10)"
      ],
      "execution_count": 0,
      "outputs": [
        {
          "output_type": "execute_result",
          "data": {
            "text/plain": [
              "{'FAKE': [(-4.913352161708878, '2016'),\n",
              "  (-4.263177731931766, 'hillary'),\n",
              "  (-4.1397293752209094, 'october'),\n",
              "  (-3.192231392078634, 'share'),\n",
              "  (-2.8450714162394717, 'november'),\n",
              "  (-2.820476987425301, 'article'),\n",
              "  (-2.43663670756975, 'print'),\n",
              "  (-2.4357285710387044, 'mosul'),\n",
              "  (-2.4068160273766988, 'oct'),\n",
              "  (-2.291947350763884, 'advertisement')],\n",
              " 'REAL': [(2.1428383296344466, 'conservative'),\n",
              "  (2.191006213506739, 'friday'),\n",
              "  (2.209455093465244, 'candidates'),\n",
              "  (2.26855796583118, 'rush'),\n",
              "  (2.2726944421366757, 'cruz'),\n",
              "  (2.3624132848871273, 'gop'),\n",
              "  (2.4219646339338716, 'islamic'),\n",
              "  (2.597088074834839, 'says'),\n",
              "  (2.643914395657718, 'tuesday'),\n",
              "  (4.835891118796841, 'said')]}"
            ]
          },
          "metadata": {
            "tags": []
          },
          "execution_count": 159
        }
      ]
    },
    {
      "cell_type": "code",
      "metadata": {
        "id": "9WAHU_eFX2NN",
        "colab_type": "code",
        "colab": {}
      },
      "source": [
        "classifiers = [(mn_count_clf, count_vectorizer),\n",
        "               (mn_tfidf_clf, tfidf_vectorizer),\n",
        "               (pa_tfidf_clf, tfidf_vectorizer),\n",
        "               (svc_tfidf_clf, tfidf_vectorizer),\n",
        "               (sgd_tfidf_clf, tfidf_vectorizer)]"
      ],
      "execution_count": 0,
      "outputs": []
    },
    {
      "cell_type": "code",
      "metadata": {
        "id": "h3uiALQPYhlx",
        "colab_type": "code",
        "outputId": "2be0b61e-c877-424b-b194-d3d7efff9952",
        "colab": {
          "base_uri": "https://localhost:8080/",
          "height": 1000
        }
      },
      "source": [
        "results = {}\n",
        "for clf, vct in classifiers:\n",
        "    results[clf] = most_informative_feature_for_binary_classification(vct, clf, n=10)\n",
        "results"
      ],
      "execution_count": 0,
      "outputs": [
        {
          "output_type": "execute_result",
          "data": {
            "text/plain": [
              "{LinearSVC(C=1.0, class_weight=None, dual=True, fit_intercept=True,\n",
              "           intercept_scaling=1, loss='squared_hinge', max_iter=1000,\n",
              "           multi_class='ovr', penalty='l2', random_state=None, tol=0.0001,\n",
              "           verbose=0): {'FAKE': [(-2.5736810438394477, '2016'),\n",
              "   (-2.53397703941188, 'hillary'),\n",
              "   (-2.283261264168891, 'october'),\n",
              "   (-1.7249569472615747, 'article'),\n",
              "   (-1.7001446324539382, 'november'),\n",
              "   (-1.6804826362805247, 'share'),\n",
              "   (-1.4612978795434624, 'election'),\n",
              "   (-1.3994870279687612, 'print'),\n",
              "   (-1.3618726014743954, 'war'),\n",
              "   (-1.3083284783579474, 'advertisement')],\n",
              "  'REAL': [(1.3417959796887, 'friday'),\n",
              "   (1.3487562442709409, 'monday'),\n",
              "   (1.3541844968897556, 'cruz'),\n",
              "   (1.3789179585551845, 'gop'),\n",
              "   (1.3919860938237447, 'candidates'),\n",
              "   (1.422235269829656, 'conservative'),\n",
              "   (1.4570607832796032, 'islamic'),\n",
              "   (1.58343202504965, 'says'),\n",
              "   (1.680511782108139, 'tuesday'),\n",
              "   (3.48021364992575, 'said')]},\n",
              " MultinomialNB(alpha=0.1, class_prior=None, fit_prior=True): {'FAKE': [(-16.067750538483136,\n",
              "    '0000'),\n",
              "   (-16.067750538483136, '000035'),\n",
              "   (-16.067750538483136, '0001'),\n",
              "   (-16.067750538483136, '0001pt'),\n",
              "   (-16.067750538483136, '000km'),\n",
              "   (-16.067750538483136, '0011'),\n",
              "   (-16.067750538483136, '006s'),\n",
              "   (-16.067750538483136, '007'),\n",
              "   (-16.067750538483136, '007s'),\n",
              "   (-16.067750538483136, '008s')],\n",
              "  'REAL': [(-5.675959082863306, 'republican'),\n",
              "   (-5.582298794347825, 'campaign'),\n",
              "   (-5.520542422049422, 'new'),\n",
              "   (-5.463370874939617, 'state'),\n",
              "   (-5.459162531269605, 'obama'),\n",
              "   (-5.429949870021241, 'president'),\n",
              "   (-5.403667459399097, 'people'),\n",
              "   (-4.929358535752954, 'clinton'),\n",
              "   (-4.541306857712, 'trump'),\n",
              "   (-4.424753408851144, 'said')]},\n",
              " MultinomialNB(alpha=0.1, class_prior=None, fit_prior=True): {'FAKE': [(-12.641778440826338,\n",
              "    '0000'),\n",
              "   (-12.641778440826338, '000035'),\n",
              "   (-12.641778440826338, '0001'),\n",
              "   (-12.641778440826338, '0001pt'),\n",
              "   (-12.641778440826338, '000km'),\n",
              "   (-12.641778440826338, '0011'),\n",
              "   (-12.641778440826338, '006s'),\n",
              "   (-12.641778440826338, '007'),\n",
              "   (-12.641778440826338, '007s'),\n",
              "   (-12.641778440826338, '008s')],\n",
              "  'REAL': [(-6.452319082422527, 'cruz'),\n",
              "   (-6.452076515575875, 'state'),\n",
              "   (-6.397696648238072, 'republican'),\n",
              "   (-6.376343060363355, 'campaign'),\n",
              "   (-6.324397735392007, 'president'),\n",
              "   (-6.2546017970213645, 'sanders'),\n",
              "   (-6.144621899738043, 'obama'),\n",
              "   (-5.756817248152807, 'clinton'),\n",
              "   (-5.596085785733112, 'said'),\n",
              "   (-5.357523914504495, 'trump')]},\n",
              " PassiveAggressiveClassifier(C=1.0, average=False, class_weight=None,\n",
              "                             early_stopping=False, fit_intercept=True,\n",
              "                             loss='hinge', max_iter=1000, n_iter_no_change=5,\n",
              "                             n_jobs=None, random_state=None, shuffle=True,\n",
              "                             tol=0.001, validation_fraction=0.1, verbose=0,\n",
              "                             warm_start=False): {'FAKE': [(-4.913352161708878,\n",
              "    '2016'),\n",
              "   (-4.263177731931766, 'hillary'),\n",
              "   (-4.1397293752209094, 'october'),\n",
              "   (-3.192231392078634, 'share'),\n",
              "   (-2.8450714162394717, 'november'),\n",
              "   (-2.820476987425301, 'article'),\n",
              "   (-2.43663670756975, 'print'),\n",
              "   (-2.4357285710387044, 'mosul'),\n",
              "   (-2.4068160273766988, 'oct'),\n",
              "   (-2.291947350763884, 'advertisement')],\n",
              "  'REAL': [(2.1428383296344466, 'conservative'),\n",
              "   (2.191006213506739, 'friday'),\n",
              "   (2.209455093465244, 'candidates'),\n",
              "   (2.26855796583118, 'rush'),\n",
              "   (2.2726944421366757, 'cruz'),\n",
              "   (2.3624132848871273, 'gop'),\n",
              "   (2.4219646339338716, 'islamic'),\n",
              "   (2.597088074834839, 'says'),\n",
              "   (2.643914395657718, 'tuesday'),\n",
              "   (4.835891118796841, 'said')]},\n",
              " SGDClassifier(alpha=0.0001, average=False, class_weight=None,\n",
              "               early_stopping=False, epsilon=0.1, eta0=0.0, fit_intercept=True,\n",
              "               l1_ratio=0.15, learning_rate='optimal', loss='hinge',\n",
              "               max_iter=1000, n_iter_no_change=5, n_jobs=None, penalty='l2',\n",
              "               power_t=0.5, random_state=None, shuffle=True, tol=0.001,\n",
              "               validation_fraction=0.1, verbose=0, warm_start=False): {'FAKE': [(-3.468484259639741,\n",
              "    'hillary'),\n",
              "   (-3.354122380752053, '2016'),\n",
              "   (-3.1166964525695553, 'october'),\n",
              "   (-2.538055276387405, 'article'),\n",
              "   (-2.2936383261327893, 'november'),\n",
              "   (-2.260176497410706, 'share'),\n",
              "   (-2.1527000202673037, 'print'),\n",
              "   (-2.0168412932126043, 'election'),\n",
              "   (-1.9082811666361281, 'war'),\n",
              "   (-1.8861053486072585, 'email')],\n",
              "  'REAL': [(1.7816896042049026, 'attacks'),\n",
              "   (1.8205981692975435, 'presumptive'),\n",
              "   (1.9128699427893288, 'gop'),\n",
              "   (1.917889499567859, 'monday'),\n",
              "   (1.9248786087765233, 'islamic'),\n",
              "   (1.934466735221903, 'conservative'),\n",
              "   (1.968549626274188, 'friday'),\n",
              "   (2.0665884060633952, 'says'),\n",
              "   (2.43233827552081, 'tuesday'),\n",
              "   (4.324456756915532, 'said')]}}"
            ]
          },
          "metadata": {
            "tags": []
          },
          "execution_count": 161
        }
      ]
    },
    {
      "cell_type": "code",
      "metadata": {
        "id": "G9t9zBM5YmSx",
        "colab_type": "code",
        "colab": {}
      },
      "source": [
        "comparable_results = {'REAL': {}, 'FAKE': {}}\n",
        "for clf, data in results.items():\n",
        "    clf_name = clf.__class__.__name__\n",
        "    for label, features in data.items():\n",
        "        for rank, score_tuple in enumerate(features):\n",
        "            if score_tuple[1] in comparable_results[label]:\n",
        "                comparable_results[label][score_tuple[1]].append((rank + 1, clf_name))\n",
        "            else:\n",
        "                comparable_results[label][score_tuple[1]] = [(rank + 1, clf_name)]"
      ],
      "execution_count": 0,
      "outputs": []
    },
    {
      "cell_type": "markdown",
      "metadata": {
        "id": "PSBYJStbZWMi",
        "colab_type": "text"
      },
      "source": [
        "**Filtering all Fake values**"
      ]
    },
    {
      "cell_type": "code",
      "metadata": {
        "id": "2YmzRRvfYvqC",
        "colab_type": "code",
        "outputId": "150ac183-2fc3-4866-dffd-907a7402f0fc",
        "colab": {
          "base_uri": "https://localhost:8080/",
          "height": 646
        }
      },
      "source": [
        "comparable_results['FAKE']"
      ],
      "execution_count": 0,
      "outputs": [
        {
          "output_type": "execute_result",
          "data": {
            "text/plain": [
              "{'0000': [(1, 'MultinomialNB'), (1, 'MultinomialNB')],\n",
              " '000035': [(2, 'MultinomialNB'), (2, 'MultinomialNB')],\n",
              " '0001': [(3, 'MultinomialNB'), (3, 'MultinomialNB')],\n",
              " '0001pt': [(4, 'MultinomialNB'), (4, 'MultinomialNB')],\n",
              " '000km': [(5, 'MultinomialNB'), (5, 'MultinomialNB')],\n",
              " '0011': [(6, 'MultinomialNB'), (6, 'MultinomialNB')],\n",
              " '006s': [(7, 'MultinomialNB'), (7, 'MultinomialNB')],\n",
              " '007': [(8, 'MultinomialNB'), (8, 'MultinomialNB')],\n",
              " '007s': [(9, 'MultinomialNB'), (9, 'MultinomialNB')],\n",
              " '008s': [(10, 'MultinomialNB'), (10, 'MultinomialNB')],\n",
              " '2016': [(1, 'PassiveAggressiveClassifier'),\n",
              "  (1, 'LinearSVC'),\n",
              "  (2, 'SGDClassifier')],\n",
              " 'advertisement': [(10, 'PassiveAggressiveClassifier'), (10, 'LinearSVC')],\n",
              " 'article': [(6, 'PassiveAggressiveClassifier'),\n",
              "  (4, 'LinearSVC'),\n",
              "  (4, 'SGDClassifier')],\n",
              " 'election': [(7, 'LinearSVC'), (8, 'SGDClassifier')],\n",
              " 'email': [(10, 'SGDClassifier')],\n",
              " 'hillary': [(2, 'PassiveAggressiveClassifier'),\n",
              "  (2, 'LinearSVC'),\n",
              "  (1, 'SGDClassifier')],\n",
              " 'mosul': [(8, 'PassiveAggressiveClassifier')],\n",
              " 'november': [(5, 'PassiveAggressiveClassifier'),\n",
              "  (5, 'LinearSVC'),\n",
              "  (5, 'SGDClassifier')],\n",
              " 'oct': [(9, 'PassiveAggressiveClassifier')],\n",
              " 'october': [(3, 'PassiveAggressiveClassifier'),\n",
              "  (3, 'LinearSVC'),\n",
              "  (3, 'SGDClassifier')],\n",
              " 'print': [(7, 'PassiveAggressiveClassifier'),\n",
              "  (8, 'LinearSVC'),\n",
              "  (7, 'SGDClassifier')],\n",
              " 'share': [(4, 'PassiveAggressiveClassifier'),\n",
              "  (6, 'LinearSVC'),\n",
              "  (6, 'SGDClassifier')],\n",
              " 'war': [(9, 'LinearSVC'), (9, 'SGDClassifier')]}"
            ]
          },
          "metadata": {
            "tags": []
          },
          "execution_count": 163
        }
      ]
    },
    {
      "cell_type": "code",
      "metadata": {
        "id": "fldej6-1YwFL",
        "colab_type": "code",
        "colab": {}
      },
      "source": [
        "agg_results = {}\n",
        "for label, features in comparable_results.items():\n",
        "    for feature, ranks in features.items():\n",
        "        if feature in agg_results:\n",
        "            print(\"WARNING! DUPLICATE LABEL!!! {}\".format(feature))\n",
        "        agg_results[feature] = {\n",
        "            'label': label,\n",
        "            'agg_rank': np.mean([r[0] for r in ranks]),\n",
        "            'count': len(ranks)\n",
        "        }"
      ],
      "execution_count": 0,
      "outputs": []
    },
    {
      "cell_type": "code",
      "metadata": {
        "id": "F1W4Hu6NYwhB",
        "colab_type": "code",
        "colab": {}
      },
      "source": [
        "comparison_df = pd.DataFrame(agg_results).T"
      ],
      "execution_count": 0,
      "outputs": []
    },
    {
      "cell_type": "code",
      "metadata": {
        "id": "HTB6QQErYwq-",
        "colab_type": "code",
        "outputId": "ca0c5682-2b3f-4bcb-dda1-397716d430d2",
        "colab": {
          "base_uri": "https://localhost:8080/",
          "height": 204
        }
      },
      "source": [
        "comparison_df.head()"
      ],
      "execution_count": 0,
      "outputs": [
        {
          "output_type": "execute_result",
          "data": {
            "text/html": [
              "<div>\n",
              "<style scoped>\n",
              "    .dataframe tbody tr th:only-of-type {\n",
              "        vertical-align: middle;\n",
              "    }\n",
              "\n",
              "    .dataframe tbody tr th {\n",
              "        vertical-align: top;\n",
              "    }\n",
              "\n",
              "    .dataframe thead th {\n",
              "        text-align: right;\n",
              "    }\n",
              "</style>\n",
              "<table border=\"1\" class=\"dataframe\">\n",
              "  <thead>\n",
              "    <tr style=\"text-align: right;\">\n",
              "      <th></th>\n",
              "      <th>label</th>\n",
              "      <th>agg_rank</th>\n",
              "      <th>count</th>\n",
              "    </tr>\n",
              "  </thead>\n",
              "  <tbody>\n",
              "    <tr>\n",
              "      <th>republican</th>\n",
              "      <td>REAL</td>\n",
              "      <td>2</td>\n",
              "      <td>2</td>\n",
              "    </tr>\n",
              "    <tr>\n",
              "      <th>campaign</th>\n",
              "      <td>REAL</td>\n",
              "      <td>3</td>\n",
              "      <td>2</td>\n",
              "    </tr>\n",
              "    <tr>\n",
              "      <th>new</th>\n",
              "      <td>REAL</td>\n",
              "      <td>3</td>\n",
              "      <td>1</td>\n",
              "    </tr>\n",
              "    <tr>\n",
              "      <th>state</th>\n",
              "      <td>REAL</td>\n",
              "      <td>3</td>\n",
              "      <td>2</td>\n",
              "    </tr>\n",
              "    <tr>\n",
              "      <th>obama</th>\n",
              "      <td>REAL</td>\n",
              "      <td>6</td>\n",
              "      <td>2</td>\n",
              "    </tr>\n",
              "  </tbody>\n",
              "</table>\n",
              "</div>"
            ],
            "text/plain": [
              "           label agg_rank count\n",
              "republican  REAL        2     2\n",
              "campaign    REAL        3     2\n",
              "new         REAL        3     1\n",
              "state       REAL        3     2\n",
              "obama       REAL        6     2"
            ]
          },
          "metadata": {
            "tags": []
          },
          "execution_count": 166
        }
      ]
    },
    {
      "cell_type": "markdown",
      "metadata": {
        "id": "BEvE-7LMZc1Z",
        "colab_type": "text"
      },
      "source": [
        "**Top 10 Real and Fake value respectively :**"
      ]
    },
    {
      "cell_type": "code",
      "metadata": {
        "id": "9qazB0lPYwnO",
        "colab_type": "code",
        "outputId": "c016f0ed-f890-40f2-aaa7-49c094265a26",
        "colab": {
          "base_uri": "https://localhost:8080/",
          "height": 359
        }
      },
      "source": [
        "comparison_df[comparison_df['label'] == 'REAL'].sort_values('count', ascending=0).head(10)"
      ],
      "execution_count": 0,
      "outputs": [
        {
          "output_type": "execute_result",
          "data": {
            "text/html": [
              "<div>\n",
              "<style scoped>\n",
              "    .dataframe tbody tr th:only-of-type {\n",
              "        vertical-align: middle;\n",
              "    }\n",
              "\n",
              "    .dataframe tbody tr th {\n",
              "        vertical-align: top;\n",
              "    }\n",
              "\n",
              "    .dataframe thead th {\n",
              "        text-align: right;\n",
              "    }\n",
              "</style>\n",
              "<table border=\"1\" class=\"dataframe\">\n",
              "  <thead>\n",
              "    <tr style=\"text-align: right;\">\n",
              "      <th></th>\n",
              "      <th>label</th>\n",
              "      <th>agg_rank</th>\n",
              "      <th>count</th>\n",
              "    </tr>\n",
              "  </thead>\n",
              "  <tbody>\n",
              "    <tr>\n",
              "      <th>said</th>\n",
              "      <td>REAL</td>\n",
              "      <td>9.8</td>\n",
              "      <td>5</td>\n",
              "    </tr>\n",
              "    <tr>\n",
              "      <th>says</th>\n",
              "      <td>REAL</td>\n",
              "      <td>8</td>\n",
              "      <td>3</td>\n",
              "    </tr>\n",
              "    <tr>\n",
              "      <th>gop</th>\n",
              "      <td>REAL</td>\n",
              "      <td>4.33333</td>\n",
              "      <td>3</td>\n",
              "    </tr>\n",
              "    <tr>\n",
              "      <th>tuesday</th>\n",
              "      <td>REAL</td>\n",
              "      <td>9</td>\n",
              "      <td>3</td>\n",
              "    </tr>\n",
              "    <tr>\n",
              "      <th>friday</th>\n",
              "      <td>REAL</td>\n",
              "      <td>3.33333</td>\n",
              "      <td>3</td>\n",
              "    </tr>\n",
              "    <tr>\n",
              "      <th>conservative</th>\n",
              "      <td>REAL</td>\n",
              "      <td>4.33333</td>\n",
              "      <td>3</td>\n",
              "    </tr>\n",
              "    <tr>\n",
              "      <th>cruz</th>\n",
              "      <td>REAL</td>\n",
              "      <td>3</td>\n",
              "      <td>3</td>\n",
              "    </tr>\n",
              "    <tr>\n",
              "      <th>islamic</th>\n",
              "      <td>REAL</td>\n",
              "      <td>6.33333</td>\n",
              "      <td>3</td>\n",
              "    </tr>\n",
              "    <tr>\n",
              "      <th>trump</th>\n",
              "      <td>REAL</td>\n",
              "      <td>9.5</td>\n",
              "      <td>2</td>\n",
              "    </tr>\n",
              "    <tr>\n",
              "      <th>clinton</th>\n",
              "      <td>REAL</td>\n",
              "      <td>8</td>\n",
              "      <td>2</td>\n",
              "    </tr>\n",
              "  </tbody>\n",
              "</table>\n",
              "</div>"
            ],
            "text/plain": [
              "             label agg_rank count\n",
              "said          REAL      9.8     5\n",
              "says          REAL        8     3\n",
              "gop           REAL  4.33333     3\n",
              "tuesday       REAL        9     3\n",
              "friday        REAL  3.33333     3\n",
              "conservative  REAL  4.33333     3\n",
              "cruz          REAL        3     3\n",
              "islamic       REAL  6.33333     3\n",
              "trump         REAL      9.5     2\n",
              "clinton       REAL        8     2"
            ]
          },
          "metadata": {
            "tags": []
          },
          "execution_count": 167
        }
      ]
    },
    {
      "cell_type": "code",
      "metadata": {
        "id": "AmRhIDeNZDac",
        "colab_type": "code",
        "outputId": "e996b755-b212-4bd7-e804-059d4053f975",
        "colab": {
          "base_uri": "https://localhost:8080/",
          "height": 359
        }
      },
      "source": [
        "comparison_df[comparison_df['label'] == 'FAKE'].sort_values('count', ascending=0).head(10)"
      ],
      "execution_count": 0,
      "outputs": [
        {
          "output_type": "execute_result",
          "data": {
            "text/html": [
              "<div>\n",
              "<style scoped>\n",
              "    .dataframe tbody tr th:only-of-type {\n",
              "        vertical-align: middle;\n",
              "    }\n",
              "\n",
              "    .dataframe tbody tr th {\n",
              "        vertical-align: top;\n",
              "    }\n",
              "\n",
              "    .dataframe thead th {\n",
              "        text-align: right;\n",
              "    }\n",
              "</style>\n",
              "<table border=\"1\" class=\"dataframe\">\n",
              "  <thead>\n",
              "    <tr style=\"text-align: right;\">\n",
              "      <th></th>\n",
              "      <th>label</th>\n",
              "      <th>agg_rank</th>\n",
              "      <th>count</th>\n",
              "    </tr>\n",
              "  </thead>\n",
              "  <tbody>\n",
              "    <tr>\n",
              "      <th>hillary</th>\n",
              "      <td>FAKE</td>\n",
              "      <td>1.66667</td>\n",
              "      <td>3</td>\n",
              "    </tr>\n",
              "    <tr>\n",
              "      <th>print</th>\n",
              "      <td>FAKE</td>\n",
              "      <td>7.33333</td>\n",
              "      <td>3</td>\n",
              "    </tr>\n",
              "    <tr>\n",
              "      <th>article</th>\n",
              "      <td>FAKE</td>\n",
              "      <td>4.66667</td>\n",
              "      <td>3</td>\n",
              "    </tr>\n",
              "    <tr>\n",
              "      <th>november</th>\n",
              "      <td>FAKE</td>\n",
              "      <td>5</td>\n",
              "      <td>3</td>\n",
              "    </tr>\n",
              "    <tr>\n",
              "      <th>share</th>\n",
              "      <td>FAKE</td>\n",
              "      <td>5.33333</td>\n",
              "      <td>3</td>\n",
              "    </tr>\n",
              "    <tr>\n",
              "      <th>october</th>\n",
              "      <td>FAKE</td>\n",
              "      <td>3</td>\n",
              "      <td>3</td>\n",
              "    </tr>\n",
              "    <tr>\n",
              "      <th>2016</th>\n",
              "      <td>FAKE</td>\n",
              "      <td>1.33333</td>\n",
              "      <td>3</td>\n",
              "    </tr>\n",
              "    <tr>\n",
              "      <th>000035</th>\n",
              "      <td>FAKE</td>\n",
              "      <td>2</td>\n",
              "      <td>2</td>\n",
              "    </tr>\n",
              "    <tr>\n",
              "      <th>war</th>\n",
              "      <td>FAKE</td>\n",
              "      <td>9</td>\n",
              "      <td>2</td>\n",
              "    </tr>\n",
              "    <tr>\n",
              "      <th>election</th>\n",
              "      <td>FAKE</td>\n",
              "      <td>7.5</td>\n",
              "      <td>2</td>\n",
              "    </tr>\n",
              "  </tbody>\n",
              "</table>\n",
              "</div>"
            ],
            "text/plain": [
              "         label agg_rank count\n",
              "hillary   FAKE  1.66667     3\n",
              "print     FAKE  7.33333     3\n",
              "article   FAKE  4.66667     3\n",
              "november  FAKE        5     3\n",
              "share     FAKE  5.33333     3\n",
              "october   FAKE        3     3\n",
              "2016      FAKE  1.33333     3\n",
              "000035    FAKE        2     2\n",
              "war       FAKE        9     2\n",
              "election  FAKE      7.5     2"
            ]
          },
          "metadata": {
            "tags": []
          },
          "execution_count": 168
        }
      ]
    },
    {
      "cell_type": "markdown",
      "metadata": {
        "id": "TRPv0GgGbf0I",
        "colab_type": "text"
      },
      "source": [
        "Futher Jouranalist can segregate its news using this Fake label tokens for Real news to viewer..\n",
        "**Conclude**"
      ]
    }
  ]
}